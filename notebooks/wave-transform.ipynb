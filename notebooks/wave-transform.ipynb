{
 "cells": [
  {
   "cell_type": "markdown",
   "metadata": {},
   "source": [
    "# Fourier transform from sample data"
   ]
  },
  {
   "cell_type": "code",
   "execution_count": null,
   "metadata": {},
   "outputs": [],
   "source": [
    "import matplotlib.pyplot as plt\n",
    "import numpy as np"
   ]
  },
  {
   "cell_type": "markdown",
   "metadata": {},
   "source": [
    "## 1. Define frequency generators"
   ]
  },
  {
   "cell_type": "code",
   "execution_count": null,
   "metadata": {},
   "outputs": [],
   "source": [
    "from scipy.io import wavfile\n",
    "\n",
    "SAMPLE_RATE = 44100  # Hertz\n",
    "DURATION = 5  # Seconds\n",
    "NOISE = 0.04  # To be added to the sine data\n",
    "\n",
    "def generate_wav_data():\n",
    "    \"\"\"Generate a 2 hertz sine wave that lasts for x seconds.\n",
    "    \"\"\"\n",
    "    sample_rate, data = wavfile.read('sample-input/crickets.wav')\n",
    "    length = data.shape[0] / sample_rate\n",
    "\n",
    "    time = np.linspace(0., length, data.shape[0])\n",
    "    # plt.plot(time, data[:, 0], label=\"Left channel\")\n",
    "    # plt.plot(time, data[:, 1], label=\"Right channel\")\n",
    "    # plt.legend()\n",
    "    # plt.xlabel(\"Time [s]\")\n",
    "    # plt.ylabel(\"Amplitude\")\n",
    "    # plt.show()\n",
    "    return sample_rate, length, time, data[:, 0]\n",
    "\n",
    "def generate_sine_data(freq, sample_rate, duration, noise):\n",
    "    \"\"\"Generates a sample sine wave with a specific sample rate, constant\n",
    "    frequency and max amplitude of 1.0.\n",
    "    \"\"\"\n",
    "    x = np.linspace(0, duration, sample_rate * duration, endpoint=False)\n",
    "    frequencies = x * freq\n",
    "    # 2pi because np.sin takes radians\n",
    "    y = np.sin((2 * np.pi) * frequencies) + (np.sin((2 * np.pi) * frequencies * 10) * 0.3)\n",
    "    return sample_rate, duration, x, y\n",
    "\n"
   ]
  },
  {
   "cell_type": "code",
   "execution_count": null,
   "metadata": {},
   "outputs": [],
   "source": [
    "def acquire_data():\n",
    "#     return generate_sine_data(400, SAMPLE_RATE, DURATION, NOISE)\n",
    "    return generate_wav_data()"
   ]
  },
  {
   "cell_type": "markdown",
   "metadata": {},
   "source": [
    "## 2. Plot the data"
   ]
  },
  {
   "cell_type": "code",
   "execution_count": null,
   "metadata": {},
   "outputs": [],
   "source": [
    "sample_rate, duration, x, y = acquire_data()\n",
    "plt.plot(y[:10000])\n",
    "plt.show()"
   ]
  },
  {
   "cell_type": "markdown",
   "metadata": {},
   "source": [
    "## 3. Apply Fourier transform"
   ]
  },
  {
   "cell_type": "code",
   "execution_count": null,
   "metadata": {
    "scrolled": true
   },
   "outputs": [],
   "source": [
    "\n",
    "# Number of samples in the original input\n",
    "N = int(sample_rate * duration)\n",
    "\n",
    "from scipy.fft import rfft, rfftfreq\n",
    "\n",
    "# Note the extra 'r' at the front\n",
    "yf = rfft(y)\n",
    "xf = rfftfreq(N, 1 / sample_rate)\n",
    "\n",
    "plt.plot(xf, np.abs(yf))\n",
    "plt.show()"
   ]
  },
  {
   "cell_type": "markdown",
   "metadata": {},
   "source": [
    "## 5. Cleaning the data"
   ]
  },
  {
   "cell_type": "code",
   "execution_count": null,
   "metadata": {},
   "outputs": [],
   "source": []
  },
  {
   "cell_type": "code",
   "execution_count": null,
   "metadata": {},
   "outputs": [],
   "source": [
    "import pandas as pd\n",
    "\n",
    "df = pd.DataFrame()\n",
    "\n",
    "df['frequency'] = xf\n",
    "df['power'] = np.abs(yf)\n",
    "\n",
    "df.head()"
   ]
  }
 ],
 "metadata": {
  "interpreter": {
   "hash": "dfd7463fbfb7121019e03300fa0bc1529983404fd18b674fb5bbb72da06c71da"
  },
  "kernelspec": {
   "display_name": "Python 3.8.10 64-bit ('.venv': venv)",
   "name": "python3"
  },
  "language_info": {
   "codemirror_mode": {
    "name": "ipython",
    "version": 3
   },
   "file_extension": ".py",
   "mimetype": "text/x-python",
   "name": "python",
   "nbconvert_exporter": "python",
   "pygments_lexer": "ipython3",
   "version": "3.8.10"
  }
 },
 "nbformat": 4,
 "nbformat_minor": 2
}
